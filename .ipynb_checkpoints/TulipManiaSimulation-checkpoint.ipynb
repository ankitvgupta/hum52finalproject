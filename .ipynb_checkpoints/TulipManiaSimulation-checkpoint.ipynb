{
 "metadata": {
  "name": "",
  "signature": "sha256:032620dc9dd9bd0f8aadb176202fa812603e3c083e9862ccf0178bdd56a057a3"
 },
 "nbformat": 3,
 "nbformat_minor": 0,
 "worksheets": [
  {
   "cells": [
    {
     "cell_type": "code",
     "collapsed": false,
     "input": [
      "import Queue\n",
      "import threading\n",
      "import numpy as np\n",
      "import time\n",
      "import matplotlib.pyplot as plt\n",
      "%matplotlib inline  \n",
      "import time\n",
      "from IPython import display\n",
      "\n"
     ],
     "language": "python",
     "metadata": {},
     "outputs": [],
     "prompt_number": 1
    },
    {
     "cell_type": "code",
     "collapsed": false,
     "input": [
      "\n",
      "def graph_data(total_iterations, lastpricedata, richestperson, poorestperson, averagestockholders,\n",
      "               averagenonstockholders, numberofcontracts): \n",
      "    plt.clf()\n",
      "    f, axarr = plt.subplots(2, 2, figsize=(10,5))\n",
      "    plt.tight_layout()\n",
      "    axarr[0, 0].plot(lastpricedata)\n",
      "    axarr[0, 0].set_title('Prices')\n",
      "    axarr[0, 0].set_xlim([0,total_iterations])\n",
      "    axarr[0, 0].set_ylim([0,150000])\n",
      "\n",
      "    \n",
      "    axarr[0, 1].plot(richestperson)\n",
      "    axarr[0, 1].set_title('Richest Person')\n",
      "    axarr[0, 1].set_xlim([0,total_iterations])\n",
      "    axarr[0, 1].set_ylim([-5000,500000])\n",
      "\n",
      "\n",
      "    axarr[1, 0].plot(poorestperson)\n",
      "    axarr[1, 0].set_title('Poorest')\n",
      "    axarr[1, 0].set_xlim([0,total_iterations])\n",
      "    axarr[1, 0].set_ylim([-500000,0])\n",
      "\n",
      "\n",
      "    \n",
      "    axarr[1, 1].plot(averagestockholders)\n",
      "    axarr[1, 1].set_title(\"Average stockholder money\")\n",
      "    axarr[1, 1].set_xlim([0,total_iterations])\n",
      "    axarr[1, 1].set_ylim([-20000,10000])\n",
      "\n",
      "    \n",
      "#     plt.xlim([0, total_iterations])\n",
      "#     plt.ylim([0, 100000])\n",
      "#     plt.plot(ydata)\n",
      "    display.clear_output(wait=True)\n",
      "    display.display(plt.gcf())\n",
      "    #time.sleep(.00001)\n",
      "    \n",
      "\n",
      "\n",
      "\n",
      "# for i in range(10):\n",
      "#     plt.clf()\n",
      "#     plt.xlim([0,100])\n",
      "#     plt.ylim([-3,3])\n",
      "#     plt.plot(np.random.randn(100))\n",
      "#     display.clear_output(wait=True)\n",
      "#     display.display(plt.gcf())\n",
      "#     time.sleep(.1)"
     ],
     "language": "python",
     "metadata": {},
     "outputs": [],
     "prompt_number": 2
    },
    {
     "cell_type": "code",
     "collapsed": false,
     "input": [
      "#graph_data(5, [10,200000], [10,300000], [10,400000], [10,500000], [10,200000], [10,300000])\n",
      "#graph_data(5, [10,200000, 300000], [10,300000, 500000], [10,400000, 600000], [10,500000, 800000], [10,200000, 500000], [10,300000, 1000000])\n",
      "\n",
      "\n"
     ],
     "language": "python",
     "metadata": {},
     "outputs": [],
     "prompt_number": 3
    },
    {
     "cell_type": "code",
     "collapsed": false,
     "input": [],
     "language": "python",
     "metadata": {},
     "outputs": [],
     "prompt_number": 3
    },
    {
     "cell_type": "code",
     "collapsed": false,
     "input": [
      "\n",
      "\n",
      "class Contract(object):\n",
      "    def __init__(self, seller, buyer, date, price):\n",
      "        self.seller = seller\n",
      "        self.buyer = buyer\n",
      "        self.date = date\n",
      "        self.price = price\n",
      "\n",
      "numpeople = 500\n",
      "startprice = 1000\n",
      "\n",
      "# Give everyone money, and no one stock\n",
      "money = [np.random.randint(10000) for i in range(numpeople)]\n",
      "stock = [0 for i in range(numpeople)]\n",
      "\n",
      "# Add a few growers, who are in depth.\n",
      "stock[-2] = 500\n",
      "stock[-1] = 150\n",
      "money[-2] = -500\n",
      "money[-1] = -200\n",
      "\n",
      "perceivedstock = [x for x in stock]\n",
      "#print(perceivedstock)\n",
      "\n",
      "\n",
      "multiplier = 1.1\n",
      "allcontracts = []\n",
      "\n",
      "graph_values_lastpricedata = []\n",
      "graph_values_richestperson =[]\n",
      "graph_values_poorestperson =[]\n",
      "graph_values_averagestockholders = []\n",
      "graph_values_averagenonstockholders = []\n",
      "graph_values_numberofcontracts = []\n",
      "\n",
      "def get_statistics(numpeople, money, stock, price, allcontracts):\n",
      "    \n",
      "\n",
      "    # for contract in allcontracts:\n",
      "    # \tprint contract.seller, contract.buyer, contract.price, contract.date\n",
      "    #value = [money[i] + startprice*stock[i] for i in range(numpeople)]\n",
      "\n",
      "#     print(\"Num of remaining contracts\", len(allcontracts))\n",
      "#     print(\"Poorest person\", min(money))\n",
      "#     print(\"Richest person\", max(money))\n",
      "\n",
      "\n",
      "    # Calculate the wealth amongst stockholders\n",
      "    total_stock_money = 0\n",
      "    total_unstocked_money = 0\n",
      "    for user in range(numpeople):\n",
      "        if stock[user]  > 0:\n",
      "            total_stock_money += money[user]\n",
      "        else:\n",
      "            total_unstocked_money += money[user]\n",
      "\n",
      "    num_stockholders =  sum(x > 0 for x in stock)\n",
      "    num_notstockholders = sum(x == 0 for x in stock)\n",
      "    return price, max(money), min(money), total_stock_money/num_stockholders, total_unstocked_money/num_notstockholders, len(allcontracts)  \n",
      "\n",
      "def simulation(numpeople, money, stock, perceivedstock, startprice, multiplier, allcontracts, epochs):\n",
      "    values = [startprice]\n",
      "    lastprice = startprice\n",
      "    for iteration in range(epochs):\n",
      "        #print(perceivedstock)\n",
      "        \n",
      "        if len(values) != 0:\n",
      "            lastprice = float(sum(values))/len(values)\n",
      "        #print lastprice\n",
      "        values = []\n",
      "\n",
      "        # For each user, if they have any perceived stock, create a contract with someone.\n",
      "        for user in range(numpeople):\n",
      "            #while stock[user] > 0:\n",
      "            while perceivedstock[user] > 0:\n",
      "                randomuser = np.random.randint(numpeople)\n",
      "                if randomuser == user:\n",
      "                    continue\n",
      "                value = np.random.normal(multiplier*lastprice)\n",
      "                allcontracts.append(Contract(user, randomuser, iteration + np.random.randint(1, 300), value))\n",
      "                #stock[user] -= 1\n",
      "                perceivedstock[user] -= 1\n",
      "        j = 0\n",
      "        while j < len(allcontracts):\n",
      "            contract = allcontracts[j]\n",
      "            if contract.date == iteration:\n",
      "                stock[contract.seller] -= 1\n",
      "                stock[contract.buyer] += 1\n",
      "                perceivedstock[contract.buyer] += 1\n",
      "                money[contract.seller] += contract.price\n",
      "                money[contract.buyer] -= contract.price\n",
      "                del(allcontracts[j])\n",
      "            else:\n",
      "                j += 1\n",
      "\n",
      "        for i in range(len(allcontracts)):\n",
      "            contract = allcontracts[i]\n",
      "            randomuser = np.random.randint(numpeople)\n",
      "            if randomuser == contract.seller or randomuser == contract.buyer:\n",
      "                continue\n",
      "            value = np.random.normal(multiplier*lastprice)\n",
      "            netval = value - contract.price\n",
      "            if netval > 0:\n",
      "                money[contract.buyer] += netval\n",
      "                money[randomuser] -= netval\n",
      "                contract.buyer = randomuser\n",
      "                values.append(value)\n",
      "            else:\n",
      "                #pass\n",
      "                if stock[randomuser] > 0:\n",
      "                    money[contract.seller] += netval\n",
      "                    money[randomuser] -= netval\n",
      "                    #stock[contract.seller] += 1\n",
      "                    #stock[randomuser] -= 1\n",
      "                    perceivedstock[contract.seller] += 1\n",
      "                    perceivedstock[randomuser] -= 1\n",
      "                    contract.seller = randomuser\n",
      "        graph_price, graph_richest, graph_poorest, graph_avgstock, graph_avgnonstock, graph_numcontracts = get_statistics(numpeople, money, stock, lastprice, allcontracts)\n",
      "        print(graph_avgstock)\n",
      "        #print get_statistics(numpeople, money, stock, lastprice, allcontracts)\n",
      "        graph_values_lastpricedata.append(graph_price)\n",
      "        graph_values_richestperson.append(graph_richest)\n",
      "        graph_values_poorestperson.append(graph_poorest)\n",
      "        graph_values_averagestockholders.append(graph_avgstock)\n",
      "        graph_values_averagenonstockholders.append(graph_avgnonstock)\n",
      "        graph_values_numberofcontracts.append(graph_numcontracts)\n",
      "        graph_data(120,graph_values_lastpricedata, graph_values_richestperson, graph_values_poorestperson,\n",
      "                   graph_values_averagestockholders, graph_values_averagenonstockholders, graph_values_numberofcontracts)\n",
      "        \n",
      "    return money, stock, perceivedstock, lastprice, allcontracts\n",
      "\n",
      "\n",
      "money, stock, perceivedstock, lastprice, allcontracts = simulation(numpeople, money, stock, perceivedstock, startprice, 1.05, allcontracts, 100)\n",
      "#print get_statistics(numpeople, money, stock, lastprice, .9, allcontracts)\n",
      "\n",
      "money, stock, perceivedstock, lastprice, allcontracts = simulation(numpeople, money, stock, perceivedstock, lastprice, .9, allcontracts, 20)\n",
      "\n",
      "print get_statistics(numpeople, money, stock, lastprice, allcontracts)\n"
     ],
     "language": "python",
     "metadata": {},
     "outputs": [
      {
       "metadata": {},
       "output_type": "display_data",
       "png": "[encoded data removed]",
       "text": [
        "<matplotlib.figure.Figure at 0x10babfc10>"
       ]
      },
      {
       "output_type": "stream",
       "stream": "stdout",
       "text": [
        "(16927.229867298418, 326588.24028053, -308916.5276470907, -13911.97651443304, 16827.008036760846, 928)\n"
       ]
      },
      {
       "metadata": {},
       "output_type": "display_data",
       "text": [
        "<matplotlib.figure.Figure at 0x10b882490>"
       ]
      },
      {
       "metadata": {},
       "output_type": "display_data",
       "text": [
        "<matplotlib.figure.Figure at 0x10b8bae10>"
       ]
      },
      {
       "metadata": {},
       "output_type": "display_data",
       "text": [
        "<matplotlib.figure.Figure at 0x10b8cd650>"
       ]
      },
      {
       "metadata": {},
       "output_type": "display_data",
       "text": [
        "<matplotlib.figure.Figure at 0x10bcb00d0>"
       ]
      },
      {
       "metadata": {},
       "output_type": "display_data",
       "text": [
        "<matplotlib.figure.Figure at 0x10c06ccd0>"
       ]
      },
      {
       "metadata": {},
       "output_type": "display_data",
       "text": [
        "<matplotlib.figure.Figure at 0x10c0ae110>"
       ]
      },
      {
       "metadata": {},
       "output_type": "display_data",
       "text": [
        "<matplotlib.figure.Figure at 0x10c089310>"
       ]
      },
      {
       "metadata": {},
       "output_type": "display_data",
       "text": [
        "<matplotlib.figure.Figure at 0x10bd24750>"
       ]
      },
      {
       "metadata": {},
       "output_type": "display_data",
       "text": [
        "<matplotlib.figure.Figure at 0x10bf01310>"
       ]
      },
      {
       "metadata": {},
       "output_type": "display_data",
       "text": [
        "<matplotlib.figure.Figure at 0x10b9f5350>"
       ]
      },
      {
       "metadata": {},
       "output_type": "display_data",
       "text": [
        "<matplotlib.figure.Figure at 0x10c0b5990>"
       ]
      },
      {
       "metadata": {},
       "output_type": "display_data",
       "text": [
        "<matplotlib.figure.Figure at 0x10bfd1f50>"
       ]
      },
      {
       "metadata": {},
       "output_type": "display_data",
       "text": [
        "<matplotlib.figure.Figure at 0x10b8db7d0>"
       ]
      },
      {
       "metadata": {},
       "output_type": "display_data",
       "text": [
        "<matplotlib.figure.Figure at 0x10bcb0f90>"
       ]
      },
      {
       "metadata": {},
       "output_type": "display_data",
       "text": [
        "<matplotlib.figure.Figure at 0x10c03fd50>"
       ]
      },
      {
       "metadata": {},
       "output_type": "display_data",
       "text": [
        "<matplotlib.figure.Figure at 0x10c9bfd10>"
       ]
      },
      {
       "metadata": {},
       "output_type": "display_data",
       "text": [
        "<matplotlib.figure.Figure at 0x10cdb2a90>"
       ]
      },
      {
       "metadata": {},
       "output_type": "display_data",
       "text": [
        "<matplotlib.figure.Figure at 0x10b993ed0>"
       ]
      },
      {
       "metadata": {},
       "output_type": "display_data",
       "text": [
        "<matplotlib.figure.Figure at 0x10bd10650>"
       ]
      },
      {
       "metadata": {},
       "output_type": "display_data",
       "text": [
        "<matplotlib.figure.Figure at 0x10cde4f50>"
       ]
      },
      {
       "metadata": {},
       "output_type": "display_data",
       "text": [
        "<matplotlib.figure.Figure at 0x10bf5e290>"
       ]
      },
      {
       "metadata": {},
       "output_type": "display_data",
       "text": [
        "<matplotlib.figure.Figure at 0x10c8dff90>"
       ]
      },
      {
       "metadata": {},
       "output_type": "display_data",
       "text": [
        "<matplotlib.figure.Figure at 0x10ce3a950>"
       ]
      },
      {
       "metadata": {},
       "output_type": "display_data",
       "text": [
        "<matplotlib.figure.Figure at 0x10ce2c3d0>"
       ]
      },
      {
       "metadata": {},
       "output_type": "display_data",
       "text": [
        "<matplotlib.figure.Figure at 0x10c258a50>"
       ]
      },
      {
       "metadata": {},
       "output_type": "display_data",
       "text": [
        "<matplotlib.figure.Figure at 0x10c41cf50>"
       ]
      },
      {
       "metadata": {},
       "output_type": "display_data",
       "text": [
        "<matplotlib.figure.Figure at 0x10cd2e5d0>"
       ]
      },
      {
       "metadata": {},
       "output_type": "display_data",
       "text": [
        "<matplotlib.figure.Figure at 0x10c3cf690>"
       ]
      },
      {
       "metadata": {},
       "output_type": "display_data",
       "text": [
        "<matplotlib.figure.Figure at 0x10c8beb50>"
       ]
      },
      {
       "metadata": {},
       "output_type": "display_data",
       "text": [
        "<matplotlib.figure.Figure at 0x10c347210>"
       ]
      },
      {
       "metadata": {},
       "output_type": "display_data",
       "text": [
        "<matplotlib.figure.Figure at 0x10c8e6290>"
       ]
      },
      {
       "metadata": {},
       "output_type": "display_data",
       "text": [
        "<matplotlib.figure.Figure at 0x10b936dd0>"
       ]
      },
      {
       "metadata": {},
       "output_type": "display_data",
       "text": [
        "<matplotlib.figure.Figure at 0x10b93cbd0>"
       ]
      },
      {
       "metadata": {},
       "output_type": "display_data",
       "text": [
        "<matplotlib.figure.Figure at 0x10b8a9e10>"
       ]
      },
      {
       "metadata": {},
       "output_type": "display_data",
       "text": [
        "<matplotlib.figure.Figure at 0x10c0977d0>"
       ]
      },
      {
       "metadata": {},
       "output_type": "display_data",
       "text": [
        "<matplotlib.figure.Figure at 0x10c364b10>"
       ]
      },
      {
       "metadata": {},
       "output_type": "display_data",
       "text": [
        "<matplotlib.figure.Figure at 0x10c9d90d0>"
       ]
      },
      {
       "metadata": {},
       "output_type": "display_data",
       "text": [
        "<matplotlib.figure.Figure at 0x10cd0b650>"
       ]
      },
      {
       "metadata": {},
       "output_type": "display_data",
       "text": [
        "<matplotlib.figure.Figure at 0x10bf79610>"
       ]
      },
      {
       "metadata": {},
       "output_type": "display_data",
       "text": [
        "<matplotlib.figure.Figure at 0x10bd226d0>"
       ]
      },
      {
       "metadata": {},
       "output_type": "display_data",
       "text": [
        "<matplotlib.figure.Figure at 0x10cd2ee50>"
       ]
      },
      {
       "metadata": {},
       "output_type": "display_data",
       "text": [
        "<matplotlib.figure.Figure at 0x10bfbf050>"
       ]
      },
      {
       "metadata": {},
       "output_type": "display_data",
       "text": [
        "<matplotlib.figure.Figure at 0x10bc34b50>"
       ]
      },
      {
       "metadata": {},
       "output_type": "display_data",
       "text": [
        "<matplotlib.figure.Figure at 0x10c938fd0>"
       ]
      },
      {
       "metadata": {},
       "output_type": "display_data",
       "text": [
        "<matplotlib.figure.Figure at 0x10b8a4f90>"
       ]
      },
      {
       "metadata": {},
       "output_type": "display_data",
       "text": [
        "<matplotlib.figure.Figure at 0x10b9916d0>"
       ]
      },
      {
       "metadata": {},
       "output_type": "display_data",
       "text": [
        "<matplotlib.figure.Figure at 0x10b8b4ad0>"
       ]
      },
      {
       "metadata": {},
       "output_type": "display_data",
       "text": [
        "<matplotlib.figure.Figure at 0x10bfd1910>"
       ]
      },
      {
       "metadata": {},
       "output_type": "display_data",
       "text": [
        "<matplotlib.figure.Figure at 0x10c308c10>"
       ]
      },
      {
       "metadata": {},
       "output_type": "display_data",
       "text": [
        "<matplotlib.figure.Figure at 0x10bcb0750>"
       ]
      },
      {
       "metadata": {},
       "output_type": "display_data",
       "text": [
        "<matplotlib.figure.Figure at 0x10c934790>"
       ]
      },
      {
       "metadata": {},
       "output_type": "display_data",
       "text": [
        "<matplotlib.figure.Figure at 0x10dd4da90>"
       ]
      },
      {
       "metadata": {},
       "output_type": "display_data",
       "text": [
        "<matplotlib.figure.Figure at 0x10b893510>"
       ]
      },
      {
       "metadata": {},
       "output_type": "display_data",
       "text": [
        "<matplotlib.figure.Figure at 0x10cd3cdd0>"
       ]
      },
      {
       "metadata": {},
       "output_type": "display_data",
       "text": [
        "<matplotlib.figure.Figure at 0x10c2aa7d0>"
       ]
      },
      {
       "metadata": {},
       "output_type": "display_data",
       "text": [
        "<matplotlib.figure.Figure at 0x10bce0390>"
       ]
      },
      {
       "metadata": {},
       "output_type": "display_data",
       "text": [
        "<matplotlib.figure.Figure at 0x10c03aa50>"
       ]
      },
      {
       "metadata": {},
       "output_type": "display_data",
       "text": [
        "<matplotlib.figure.Figure at 0x10c289910>"
       ]
      },
      {
       "metadata": {},
       "output_type": "display_data",
       "text": [
        "<matplotlib.figure.Figure at 0x10c93c1d0>"
       ]
      },
      {
       "metadata": {},
       "output_type": "display_data",
       "text": [
        "<matplotlib.figure.Figure at 0x10d6f9f10>"
       ]
      },
      {
       "metadata": {},
       "output_type": "display_data",
       "text": [
        "<matplotlib.figure.Figure at 0x10b96a9d0>"
       ]
      },
      {
       "metadata": {},
       "output_type": "display_data",
       "text": [
        "<matplotlib.figure.Figure at 0x10b996d90>"
       ]
      },
      {
       "metadata": {},
       "output_type": "display_data",
       "text": [
        "<matplotlib.figure.Figure at 0x10ba16150>"
       ]
      },
      {
       "metadata": {},
       "output_type": "display_data",
       "text": [
        "<matplotlib.figure.Figure at 0x10c235650>"
       ]
      },
      {
       "metadata": {},
       "output_type": "display_data",
       "text": [
        "<matplotlib.figure.Figure at 0x10ce2c390>"
       ]
      },
      {
       "metadata": {},
       "output_type": "display_data",
       "text": [
        "<matplotlib.figure.Figure at 0x10c272cd0>"
       ]
      },
      {
       "metadata": {},
       "output_type": "display_data",
       "text": [
        "<matplotlib.figure.Figure at 0x10cd23290>"
       ]
      },
      {
       "metadata": {},
       "output_type": "display_data",
       "text": [
        "<matplotlib.figure.Figure at 0x10c308a10>"
       ]
      },
      {
       "metadata": {},
       "output_type": "display_data",
       "text": [
        "<matplotlib.figure.Figure at 0x10b8af890>"
       ]
      },
      {
       "metadata": {},
       "output_type": "display_data",
       "text": [
        "<matplotlib.figure.Figure at 0x10f3fbed0>"
       ]
      },
      {
       "metadata": {},
       "output_type": "display_data",
       "text": [
        "<matplotlib.figure.Figure at 0x10c022450>"
       ]
      },
      {
       "metadata": {},
       "output_type": "display_data",
       "text": [
        "<matplotlib.figure.Figure at 0x10eca5510>"
       ]
      },
      {
       "metadata": {},
       "output_type": "display_data",
       "text": [
        "<matplotlib.figure.Figure at 0x10cdb57d0>"
       ]
      },
      {
       "metadata": {},
       "output_type": "display_data",
       "text": [
        "<matplotlib.figure.Figure at 0x10cd4f050>"
       ]
      },
      {
       "metadata": {},
       "output_type": "display_data",
       "text": [
        "<matplotlib.figure.Figure at 0x10c0aee50>"
       ]
      },
      {
       "metadata": {},
       "output_type": "display_data",
       "text": [
        "<matplotlib.figure.Figure at 0x10ec8dc90>"
       ]
      },
      {
       "metadata": {},
       "output_type": "display_data",
       "text": [
        "<matplotlib.figure.Figure at 0x10de8e110>"
       ]
      },
      {
       "metadata": {},
       "output_type": "display_data",
       "text": [
        "<matplotlib.figure.Figure at 0x10bfacf90>"
       ]
      },
      {
       "metadata": {},
       "output_type": "display_data",
       "text": [
        "<matplotlib.figure.Figure at 0x10c934c90>"
       ]
      },
      {
       "metadata": {},
       "output_type": "display_data",
       "text": [
        "<matplotlib.figure.Figure at 0x10dec28d0>"
       ]
      },
      {
       "metadata": {},
       "output_type": "display_data",
       "text": [
        "<matplotlib.figure.Figure at 0x10b991410>"
       ]
      },
      {
       "metadata": {},
       "output_type": "display_data",
       "text": [
        "<matplotlib.figure.Figure at 0x10c0ae650>"
       ]
      },
      {
       "metadata": {},
       "output_type": "display_data",
       "text": [
        "<matplotlib.figure.Figure at 0x10b8a99d0>"
       ]
      },
      {
       "metadata": {},
       "output_type": "display_data",
       "text": [
        "<matplotlib.figure.Figure at 0x10fb95ed0>"
       ]
      },
      {
       "metadata": {},
       "output_type": "display_data",
       "text": [
        "<matplotlib.figure.Figure at 0x10c97bb50>"
       ]
      },
      {
       "metadata": {},
       "output_type": "display_data",
       "text": [
        "<matplotlib.figure.Figure at 0x10bc9c890>"
       ]
      },
      {
       "metadata": {},
       "output_type": "display_data",
       "text": [
        "<matplotlib.figure.Figure at 0x10bfd9f10>"
       ]
      },
      {
       "metadata": {},
       "output_type": "display_data",
       "text": [
        "<matplotlib.figure.Figure at 0x10b9bac10>"
       ]
      },
      {
       "metadata": {},
       "output_type": "display_data",
       "text": [
        "<matplotlib.figure.Figure at 0x10baa3610>"
       ]
      },
      {
       "metadata": {},
       "output_type": "display_data",
       "text": [
        "<matplotlib.figure.Figure at 0x10c99bf90>"
       ]
      },
      {
       "metadata": {},
       "output_type": "display_data",
       "text": [
        "<matplotlib.figure.Figure at 0x10c3a4110>"
       ]
      },
      {
       "metadata": {},
       "output_type": "display_data",
       "text": [
        "<matplotlib.figure.Figure at 0x10c032550>"
       ]
      },
      {
       "metadata": {},
       "output_type": "display_data",
       "text": [
        "<matplotlib.figure.Figure at 0x10dd68910>"
       ]
      },
      {
       "metadata": {},
       "output_type": "display_data",
       "text": [
        "<matplotlib.figure.Figure at 0x10c37f750>"
       ]
      },
      {
       "metadata": {},
       "output_type": "display_data",
       "text": [
        "<matplotlib.figure.Figure at 0x10c912dd0>"
       ]
      },
      {
       "metadata": {},
       "output_type": "display_data",
       "text": [
        "<matplotlib.figure.Figure at 0x10ce217d0>"
       ]
      },
      {
       "metadata": {},
       "output_type": "display_data",
       "text": [
        "<matplotlib.figure.Figure at 0x10c2aad90>"
       ]
      },
      {
       "metadata": {},
       "output_type": "display_data",
       "text": [
        "<matplotlib.figure.Figure at 0x10c03f250>"
       ]
      },
      {
       "metadata": {},
       "output_type": "display_data",
       "text": [
        "<matplotlib.figure.Figure at 0x10c235290>"
       ]
      },
      {
       "metadata": {},
       "output_type": "display_data",
       "text": [
        "<matplotlib.figure.Figure at 0x10c34ce90>"
       ]
      },
      {
       "metadata": {},
       "output_type": "display_data",
       "text": [
        "<matplotlib.figure.Figure at 0x10f42c610>"
       ]
      },
      {
       "metadata": {},
       "output_type": "display_data",
       "text": [
        "<matplotlib.figure.Figure at 0x1102fcc90>"
       ]
      },
      {
       "metadata": {},
       "output_type": "display_data",
       "text": [
        "<matplotlib.figure.Figure at 0x10cd00250>"
       ]
      },
      {
       "metadata": {},
       "output_type": "display_data",
       "text": [
        "<matplotlib.figure.Figure at 0x10b941250>"
       ]
      },
      {
       "metadata": {},
       "output_type": "display_data",
       "text": [
        "<matplotlib.figure.Figure at 0x10f3fb390>"
       ]
      },
      {
       "metadata": {},
       "output_type": "display_data",
       "text": [
        "<matplotlib.figure.Figure at 0x10bd45d90>"
       ]
      },
      {
       "metadata": {},
       "output_type": "display_data",
       "text": [
        "<matplotlib.figure.Figure at 0x10dd68e50>"
       ]
      },
      {
       "metadata": {},
       "output_type": "display_data",
       "text": [
        "<matplotlib.figure.Figure at 0x10c473d10>"
       ]
      },
      {
       "metadata": {},
       "output_type": "display_data",
       "text": [
        "<matplotlib.figure.Figure at 0x10b991810>"
       ]
      },
      {
       "metadata": {},
       "output_type": "display_data",
       "text": [
        "<matplotlib.figure.Figure at 0x10cd25cd0>"
       ]
      },
      {
       "metadata": {},
       "output_type": "display_data",
       "text": [
        "<matplotlib.figure.Figure at 0x10d6f1f90>"
       ]
      },
      {
       "metadata": {},
       "output_type": "display_data",
       "text": [
        "<matplotlib.figure.Figure at 0x10f406b10>"
       ]
      },
      {
       "metadata": {},
       "output_type": "display_data",
       "text": [
        "<matplotlib.figure.Figure at 0x10c47c450>"
       ]
      },
      {
       "metadata": {},
       "output_type": "display_data",
       "text": [
        "<matplotlib.figure.Figure at 0x10bf61290>"
       ]
      },
      {
       "metadata": {},
       "output_type": "display_data",
       "text": [
        "<matplotlib.figure.Figure at 0x10baa9910>"
       ]
      },
      {
       "metadata": {},
       "output_type": "display_data",
       "text": [
        "<matplotlib.figure.Figure at 0x10c02f6d0>"
       ]
      },
      {
       "metadata": {},
       "output_type": "display_data",
       "text": [
        "<matplotlib.figure.Figure at 0x10bce9610>"
       ]
      },
      {
       "metadata": {},
       "output_type": "display_data",
       "text": [
        "<matplotlib.figure.Figure at 0x10be7a5d0>"
       ]
      },
      {
       "metadata": {},
       "output_type": "display_data",
       "text": [
        "<matplotlib.figure.Figure at 0x10b8af490>"
       ]
      },
      {
       "metadata": {},
       "output_type": "display_data",
       "text": [
        "<matplotlib.figure.Figure at 0x10cdb1a50>"
       ]
      },
      {
       "metadata": {},
       "output_type": "display_data",
       "png": "[encoded data removed]",
       "text": [
        "<matplotlib.figure.Figure at 0x10babfc10>"
       ]
      }
     ],
     "prompt_number": 4
    },
    {
     "cell_type": "code",
     "collapsed": false,
     "input": [],
     "language": "python",
     "metadata": {},
     "outputs": []
    }
   ],
   "metadata": {}
  }
 ]
}