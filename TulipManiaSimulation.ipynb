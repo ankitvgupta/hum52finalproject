{
 "metadata": {
  "name": "",
  "signature": "sha256:f5db065f07896ee63b02f263849b7f9181137e0fcd501b330a77ece93e5c427e"
 },
 "nbformat": 3,
 "nbformat_minor": 0,
 "worksheets": [
  {
   "cells": [
    {
     "cell_type": "code",
     "collapsed": false,
     "input": [
      "import Queue\n",
      "import threading\n",
      "import numpy as np\n",
      "import time\n",
      "import matplotlib.pyplot as plt\n",
      "%matplotlib inline  \n",
      "import time\n",
      "from IPython import display\n",
      "\n"
     ],
     "language": "python",
     "metadata": {},
     "outputs": [],
     "prompt_number": 1
    },
    {
     "cell_type": "code",
     "collapsed": false,
     "input": [
      "\n",
      "def graph_data(total_iterations, lastpricedata, richestperson, poorestperson, averagestockholders,\n",
      "               averagenonstockholders, numberofcontracts): \n",
      "    plt.clf()\n",
      "    f, axarr = plt.subplots(2, 2, figsize=(10,5))\n",
      "    plt.tight_layout()\n",
      "    axarr[0, 0].plot(lastpricedata)\n",
      "    axarr[0, 0].set_title('Prices')\n",
      "    axarr[0, 0].set_xlim([0,total_iterations])\n",
      "    axarr[0, 0].set_ylim([0,100000])\n",
      "\n",
      "    \n",
      "    axarr[0, 1].plot(richestperson)\n",
      "    axarr[0, 1].set_title('Richest Person')\n",
      "    axarr[0, 1].set_xlim([0,total_iterations])\n",
      "    axarr[0, 1].set_ylim([-500000,500000])\n",
      "\n",
      "\n",
      "    axarr[1, 0].plot(poorestperson)\n",
      "    axarr[1, 0].set_title('Poorest')\n",
      "    axarr[1, 0].set_xlim([0,total_iterations])\n",
      "    axarr[1, 0].set_ylim([-500000,500000])\n",
      "\n",
      "\n",
      "    \n",
      "    axarr[1, 1].plot(averagestockholders)\n",
      "    axarr[1, 1].set_title(\"Average stockholder money\")\n",
      "    axarr[1, 1].set_xlim([0,total_iterations])\n",
      "    axarr[1, 1].set_ylim([-10000,10000])\n",
      "\n",
      "    \n",
      "#     plt.xlim([0, total_iterations])\n",
      "#     plt.ylim([0, 100000])\n",
      "#     plt.plot(ydata)\n",
      "    display.clear_output(wait=True)\n",
      "    display.display(plt.gcf())\n",
      "    #time.sleep(.00001)\n",
      "    \n",
      "\n",
      "\n",
      "\n",
      "# for i in range(10):\n",
      "#     plt.clf()\n",
      "#     plt.xlim([0,100])\n",
      "#     plt.ylim([-3,3])\n",
      "#     plt.plot(np.random.randn(100))\n",
      "#     display.clear_output(wait=True)\n",
      "#     display.display(plt.gcf())\n",
      "#     time.sleep(.1)"
     ],
     "language": "python",
     "metadata": {},
     "outputs": [],
     "prompt_number": 33
    },
    {
     "cell_type": "code",
     "collapsed": false,
     "input": [
      "#graph_data(5, [10,200000], [10,300000], [10,400000], [10,500000], [10,200000], [10,300000])\n",
      "#graph_data(5, [10,200000, 300000], [10,300000, 500000], [10,400000, 600000], [10,500000, 800000], [10,200000, 500000], [10,300000, 1000000])\n",
      "\n",
      "\n"
     ],
     "language": "python",
     "metadata": {},
     "outputs": [],
     "prompt_number": 35
    },
    {
     "cell_type": "code",
     "collapsed": false,
     "input": [],
     "language": "python",
     "metadata": {},
     "outputs": [],
     "prompt_number": 35
    },
    {
     "cell_type": "code",
     "collapsed": false,
     "input": [
      "\n",
      "\n",
      "class Contract(object):\n",
      "    def __init__(self, seller, buyer, date, price):\n",
      "        self.seller = seller\n",
      "        self.buyer = buyer\n",
      "        self.date = date\n",
      "        self.price = price\n",
      "\n",
      "numpeople = 500\n",
      "startprice = 1000\n",
      "\n",
      "# Give everyone money, and no one stock\n",
      "money = [np.random.randint(10000) for i in range(numpeople)]\n",
      "stock = [0 for i in range(numpeople)]\n",
      "\n",
      "# Add a few growers, who are in depth.\n",
      "stock[-2] = 500\n",
      "stock[-1] = 150\n",
      "money[-2] = -500\n",
      "money[-1] = -200\n",
      "\n",
      "perceivedstock = [x for x in stock]\n",
      "#print(perceivedstock)\n",
      "\n",
      "\n",
      "multiplier = 1.1\n",
      "allcontracts = []\n",
      "\n",
      "graph_values_lastpricedata = []\n",
      "graph_values_richestperson =[]\n",
      "graph_values_poorestperson =[]\n",
      "graph_values_averagestockholders = []\n",
      "graph_values_averagenonstockholders = []\n",
      "graph_values_numberofcontracts = []\n",
      "\n",
      "def get_statistics(numpeople, money, stock, price, allcontracts):\n",
      "    \n",
      "\n",
      "    # for contract in allcontracts:\n",
      "    # \tprint contract.seller, contract.buyer, contract.price, contract.date\n",
      "    #value = [money[i] + startprice*stock[i] for i in range(numpeople)]\n",
      "\n",
      "#     print(\"Num of remaining contracts\", len(allcontracts))\n",
      "#     print(\"Poorest person\", min(money))\n",
      "#     print(\"Richest person\", max(money))\n",
      "\n",
      "\n",
      "    # Calculate the wealth amongst stockholders\n",
      "    total_stock_money = 0\n",
      "    total_unstocked_money = 0\n",
      "    for user in range(numpeople):\n",
      "        if stock[user]  > 0:\n",
      "            total_stock_money += money[user]\n",
      "        else:\n",
      "            total_unstocked_money += money[user]\n",
      "\n",
      "    num_stockholders =  sum(x > 0 for x in stock)\n",
      "    num_notstockholders = sum(x == 0 for x in stock)\n",
      "    return price, max(money), min(money), total_stock_money/num_stockholders, total_unstocked_money/num_notstockholders, len(allcontracts)  \n",
      "\n",
      "def simulation(numpeople, money, stock, perceivedstock, startprice, multiplier, allcontracts, epochs):\n",
      "    values = [startprice]\n",
      "    lastprice = startprice\n",
      "    for iteration in range(epochs):\n",
      "        #print(perceivedstock)\n",
      "        \n",
      "        if len(values) != 0:\n",
      "            lastprice = float(sum(values))/len(values)\n",
      "        #print lastprice\n",
      "        values = []\n",
      "\n",
      "        # For each user, if they have any perceived stock, create a contract with someone.\n",
      "        for user in range(numpeople):\n",
      "            #while stock[user] > 0:\n",
      "            while perceivedstock[user] > 0:\n",
      "                randomuser = np.random.randint(numpeople)\n",
      "                if randomuser == user:\n",
      "                    continue\n",
      "                value = np.random.normal(multiplier*lastprice)\n",
      "                allcontracts.append(Contract(user, randomuser, iteration + np.random.randint(1, 300), value))\n",
      "                #stock[user] -= 1\n",
      "                perceivedstock[user] -= 1\n",
      "        j = 0\n",
      "        while j < len(allcontracts):\n",
      "            contract = allcontracts[j]\n",
      "            if contract.date == iteration:\n",
      "                stock[contract.seller] -= 1\n",
      "                stock[contract.buyer] += 1\n",
      "                perceivedstock[contract.buyer] += 1\n",
      "                money[contract.seller] += contract.price\n",
      "                money[contract.buyer] -= contract.price\n",
      "                del(allcontracts[j])\n",
      "            else:\n",
      "                j += 1\n",
      "\n",
      "        for i in range(len(allcontracts)):\n",
      "            contract = allcontracts[i]\n",
      "            randomuser = np.random.randint(numpeople)\n",
      "            if randomuser == contract.seller or randomuser == contract.buyer:\n",
      "                continue\n",
      "            value = np.random.normal(multiplier*lastprice)\n",
      "            netval = value - contract.price\n",
      "            if netval > 0:\n",
      "                money[contract.buyer] += netval\n",
      "                money[randomuser] -= netval\n",
      "                contract.buyer = randomuser\n",
      "                values.append(value)\n",
      "            else:\n",
      "                #pass\n",
      "                if stock[randomuser] > 0:\n",
      "                    money[contract.seller] += netval\n",
      "                    money[randomuser] -= netval\n",
      "                    #stock[contract.seller] += 1\n",
      "                    #stock[randomuser] -= 1\n",
      "                    perceivedstock[contract.seller] += 1\n",
      "                    perceivedstock[randomuser] -= 1\n",
      "                    contract.seller = randomuser\n",
      "        graph_price, graph_richest, graph_poorest, graph_avgstock, graph_avgnonstock, graph_numcontracts = get_statistics(numpeople, money, stock, lastprice, allcontracts)\n",
      "        print(graph_avgstock)\n",
      "        #print get_statistics(numpeople, money, stock, lastprice, allcontracts)\n",
      "        graph_values_lastpricedata.append(graph_price)\n",
      "        graph_values_richestperson.append(graph_richest)\n",
      "        graph_values_poorestperson.append(graph_poorest)\n",
      "        graph_values_averagestockholders.append(graph_avgstock)\n",
      "        graph_values_averagenonstockholders.append(graph_avgnonstock)\n",
      "        graph_values_numberofcontracts.append(graph_numcontracts)\n",
      "        graph_data(120,graph_values_lastpricedata, graph_values_richestperson, graph_values_poorestperson,\n",
      "                   graph_values_averagestockholders, graph_values_averagenonstockholders, graph_values_numberofcontracts)\n",
      "        \n",
      "    return money, stock, perceivedstock, lastprice, allcontracts\n",
      "\n",
      "\n",
      "money, stock, perceivedstock, lastprice, allcontracts = simulation(numpeople, money, stock, perceivedstock, startprice, 1.05, allcontracts, 100)\n",
      "#print get_statistics(numpeople, money, stock, lastprice, .9, allcontracts)\n",
      "\n",
      "money, stock, perceivedstock, lastprice, allcontracts = simulation(numpeople, money, stock, perceivedstock, lastprice, .9, allcontracts, 20)\n",
      "\n",
      "print get_statistics(numpeople, money, stock, lastprice, allcontracts)\n"
     ],
     "language": "python",
     "metadata": {},
     "outputs": [
      {
       "metadata": {},
       "output_type": "display_data",
       "png": "[encoded data removed]",
       "text": [
        "<matplotlib.figure.Figure at 0x10ccdc350>"
       ]
      },
      {
       "output_type": "stream",
       "stream": "stdout",
       "text": [
        "(16924.179241887476, 304726.36424982455, -269467.87357142096, -18957.975302108876, 19648.816448876354, 892)\n"
       ]
      },
      {
       "metadata": {},
       "output_type": "display_data",
       "text": [
        "<matplotlib.figure.Figure at 0x10ea2d650>"
       ]
      },
      {
       "metadata": {},
       "output_type": "display_data",
       "text": [
        "<matplotlib.figure.Figure at 0x111b81890>"
       ]
      },
      {
       "metadata": {},
       "output_type": "display_data",
       "text": [
        "<matplotlib.figure.Figure at 0x1111645d0>"
       ]
      },
      {
       "metadata": {},
       "output_type": "display_data",
       "text": [
        "<matplotlib.figure.Figure at 0x10cc88510>"
       ]
      },
      {
       "metadata": {},
       "output_type": "display_data",
       "text": [
        "<matplotlib.figure.Figure at 0x10c9f8390>"
       ]
      },
      {
       "metadata": {},
       "output_type": "display_data",
       "text": [
        "<matplotlib.figure.Figure at 0x10cb92250>"
       ]
      },
      {
       "metadata": {},
       "output_type": "display_data",
       "text": [
        "<matplotlib.figure.Figure at 0x112599ed0>"
       ]
      },
      {
       "metadata": {},
       "output_type": "display_data",
       "text": [
        "<matplotlib.figure.Figure at 0x10c7c7990>"
       ]
      },
      {
       "metadata": {},
       "output_type": "display_data",
       "text": [
        "<matplotlib.figure.Figure at 0x10ccdcf50>"
       ]
      },
      {
       "metadata": {},
       "output_type": "display_data",
       "text": [
        "<matplotlib.figure.Figure at 0x10d0a80d0>"
       ]
      },
      {
       "metadata": {},
       "output_type": "display_data",
       "text": [
        "<matplotlib.figure.Figure at 0x10ce47ed0>"
       ]
      },
      {
       "metadata": {},
       "output_type": "display_data",
       "text": [
        "<matplotlib.figure.Figure at 0x10c3cfb90>"
       ]
      },
      {
       "metadata": {},
       "output_type": "display_data",
       "text": [
        "<matplotlib.figure.Figure at 0x112f86090>"
       ]
      },
      {
       "metadata": {},
       "output_type": "display_data",
       "text": [
        "<matplotlib.figure.Figure at 0x10d102b10>"
       ]
      },
      {
       "metadata": {},
       "output_type": "display_data",
       "text": [
        "<matplotlib.figure.Figure at 0x1125d37d0>"
       ]
      },
      {
       "metadata": {},
       "output_type": "display_data",
       "text": [
        "<matplotlib.figure.Figure at 0x10bff2e10>"
       ]
      },
      {
       "metadata": {},
       "output_type": "display_data",
       "text": [
        "<matplotlib.figure.Figure at 0x10c8cb890>"
       ]
      },
      {
       "metadata": {},
       "output_type": "display_data",
       "text": [
        "<matplotlib.figure.Figure at 0x1115ab110>"
       ]
      },
      {
       "metadata": {},
       "output_type": "display_data",
       "text": [
        "<matplotlib.figure.Figure at 0x10bf22d10>"
       ]
      },
      {
       "metadata": {},
       "output_type": "display_data",
       "text": [
        "<matplotlib.figure.Figure at 0x10c823450>"
       ]
      },
      {
       "metadata": {},
       "output_type": "display_data",
       "text": [
        "<matplotlib.figure.Figure at 0x10beeea50>"
       ]
      },
      {
       "metadata": {},
       "output_type": "display_data",
       "text": [
        "<matplotlib.figure.Figure at 0x10bfab8d0>"
       ]
      },
      {
       "metadata": {},
       "output_type": "display_data",
       "text": [
        "<matplotlib.figure.Figure at 0x10c011e50>"
       ]
      },
      {
       "metadata": {},
       "output_type": "display_data",
       "text": [
        "<matplotlib.figure.Figure at 0x10ca28610>"
       ]
      },
      {
       "metadata": {},
       "output_type": "display_data",
       "text": [
        "<matplotlib.figure.Figure at 0x10c3810d0>"
       ]
      },
      {
       "metadata": {},
       "output_type": "display_data",
       "text": [
        "<matplotlib.figure.Figure at 0x10c7c20d0>"
       ]
      },
      {
       "metadata": {},
       "output_type": "display_data",
       "text": [
        "<matplotlib.figure.Figure at 0x11158edd0>"
       ]
      },
      {
       "metadata": {},
       "output_type": "display_data",
       "text": [
        "<matplotlib.figure.Figure at 0x10c8a9b10>"
       ]
      },
      {
       "metadata": {},
       "output_type": "display_data",
       "text": [
        "<matplotlib.figure.Figure at 0x10dc200d0>"
       ]
      },
      {
       "metadata": {},
       "output_type": "display_data",
       "text": [
        "<matplotlib.figure.Figure at 0x10ea62490>"
       ]
      },
      {
       "metadata": {},
       "output_type": "display_data",
       "text": [
        "<matplotlib.figure.Figure at 0x10c729fd0>"
       ]
      },
      {
       "metadata": {},
       "output_type": "display_data",
       "text": [
        "<matplotlib.figure.Figure at 0x10beacbd0>"
       ]
      },
      {
       "metadata": {},
       "output_type": "display_data",
       "text": [
        "<matplotlib.figure.Figure at 0x10e09d110>"
       ]
      },
      {
       "metadata": {},
       "output_type": "display_data",
       "text": [
        "<matplotlib.figure.Figure at 0x10d0a8550>"
       ]
      },
      {
       "metadata": {},
       "output_type": "display_data",
       "text": [
        "<matplotlib.figure.Figure at 0x10ccc8050>"
       ]
      },
      {
       "metadata": {},
       "output_type": "display_data",
       "text": [
        "<matplotlib.figure.Figure at 0x1111a7e90>"
       ]
      },
      {
       "metadata": {},
       "output_type": "display_data",
       "text": [
        "<matplotlib.figure.Figure at 0x10d0c6fd0>"
       ]
      },
      {
       "metadata": {},
       "output_type": "display_data",
       "text": [
        "<matplotlib.figure.Figure at 0x10cca8e50>"
       ]
      },
      {
       "metadata": {},
       "output_type": "display_data",
       "text": [
        "<matplotlib.figure.Figure at 0x10cea6090>"
       ]
      },
      {
       "metadata": {},
       "output_type": "display_data",
       "text": [
        "<matplotlib.figure.Figure at 0x10d0bda90>"
       ]
      },
      {
       "metadata": {},
       "output_type": "display_data",
       "text": [
        "<matplotlib.figure.Figure at 0x10be25e50>"
       ]
      },
      {
       "metadata": {},
       "output_type": "display_data",
       "text": [
        "<matplotlib.figure.Figure at 0x10dc39b10>"
       ]
      },
      {
       "metadata": {},
       "output_type": "display_data",
       "text": [
        "<matplotlib.figure.Figure at 0x10c69ded0>"
       ]
      },
      {
       "metadata": {},
       "output_type": "display_data",
       "text": [
        "<matplotlib.figure.Figure at 0x10e9af650>"
       ]
      },
      {
       "metadata": {},
       "output_type": "display_data",
       "text": [
        "<matplotlib.figure.Figure at 0x10e9adb50>"
       ]
      },
      {
       "metadata": {},
       "output_type": "display_data",
       "text": [
        "<matplotlib.figure.Figure at 0x10c477310>"
       ]
      },
      {
       "metadata": {},
       "output_type": "display_data",
       "text": [
        "<matplotlib.figure.Figure at 0x10db8df90>"
       ]
      },
      {
       "metadata": {},
       "output_type": "display_data",
       "text": [
        "<matplotlib.figure.Figure at 0x10dc33310>"
       ]
      },
      {
       "metadata": {},
       "output_type": "display_data",
       "text": [
        "<matplotlib.figure.Figure at 0x10c19ddd0>"
       ]
      },
      {
       "metadata": {},
       "output_type": "display_data",
       "text": [
        "<matplotlib.figure.Figure at 0x10f43f810>"
       ]
      },
      {
       "metadata": {},
       "output_type": "display_data",
       "text": [
        "<matplotlib.figure.Figure at 0x10f465910>"
       ]
      },
      {
       "metadata": {},
       "output_type": "display_data",
       "text": [
        "<matplotlib.figure.Figure at 0x10ea62bd0>"
       ]
      },
      {
       "metadata": {},
       "output_type": "display_data",
       "text": [
        "<matplotlib.figure.Figure at 0x10cec1210>"
       ]
      },
      {
       "metadata": {},
       "output_type": "display_data",
       "text": [
        "<matplotlib.figure.Figure at 0x10cb9f4d0>"
       ]
      },
      {
       "metadata": {},
       "output_type": "display_data",
       "text": [
        "<matplotlib.figure.Figure at 0x10bfde450>"
       ]
      },
      {
       "metadata": {},
       "output_type": "display_data",
       "text": [
        "<matplotlib.figure.Figure at 0x10d0e6150>"
       ]
      },
      {
       "metadata": {},
       "output_type": "display_data",
       "text": [
        "<matplotlib.figure.Figure at 0x10d0bb650>"
       ]
      },
      {
       "metadata": {},
       "output_type": "display_data",
       "text": [
        "<matplotlib.figure.Figure at 0x10cda4c10>"
       ]
      },
      {
       "metadata": {},
       "output_type": "display_data",
       "text": [
        "<matplotlib.figure.Figure at 0x10c2acd90>"
       ]
      },
      {
       "metadata": {},
       "output_type": "display_data",
       "text": [
        "<matplotlib.figure.Figure at 0x10bed9ed0>"
       ]
      },
      {
       "metadata": {},
       "output_type": "display_data",
       "text": [
        "<matplotlib.figure.Figure at 0x10ca3fad0>"
       ]
      },
      {
       "metadata": {},
       "output_type": "display_data",
       "text": [
        "<matplotlib.figure.Figure at 0x10f43fad0>"
       ]
      },
      {
       "metadata": {},
       "output_type": "display_data",
       "text": [
        "<matplotlib.figure.Figure at 0x10c886650>"
       ]
      },
      {
       "metadata": {},
       "output_type": "display_data",
       "text": [
        "<matplotlib.figure.Figure at 0x10e07ecd0>"
       ]
      },
      {
       "metadata": {},
       "output_type": "display_data",
       "text": [
        "<matplotlib.figure.Figure at 0x10c720f10>"
       ]
      },
      {
       "metadata": {},
       "output_type": "display_data",
       "text": [
        "<matplotlib.figure.Figure at 0x10c797790>"
       ]
      },
      {
       "metadata": {},
       "output_type": "display_data",
       "text": [
        "<matplotlib.figure.Figure at 0x10ce395d0>"
       ]
      },
      {
       "metadata": {},
       "output_type": "display_data",
       "text": [
        "<matplotlib.figure.Figure at 0x10c108590>"
       ]
      },
      {
       "metadata": {},
       "output_type": "display_data",
       "text": [
        "<matplotlib.figure.Figure at 0x10bff1350>"
       ]
      },
      {
       "metadata": {},
       "output_type": "display_data",
       "text": [
        "<matplotlib.figure.Figure at 0x10dbe2a10>"
       ]
      },
      {
       "metadata": {},
       "output_type": "display_data",
       "text": [
        "<matplotlib.figure.Figure at 0x10cca3ed0>"
       ]
      },
      {
       "metadata": {},
       "output_type": "display_data",
       "text": [
        "<matplotlib.figure.Figure at 0x10ea53f50>"
       ]
      },
      {
       "metadata": {},
       "output_type": "display_data",
       "text": [
        "<matplotlib.figure.Figure at 0x11257e790>"
       ]
      },
      {
       "metadata": {},
       "output_type": "display_data",
       "text": [
        "<matplotlib.figure.Figure at 0x10d102f90>"
       ]
      },
      {
       "metadata": {},
       "output_type": "display_data",
       "text": [
        "<matplotlib.figure.Figure at 0x10c7b9f90>"
       ]
      },
      {
       "metadata": {},
       "output_type": "display_data",
       "text": [
        "<matplotlib.figure.Figure at 0x10c88ed50>"
       ]
      },
      {
       "metadata": {},
       "output_type": "display_data",
       "text": [
        "<matplotlib.figure.Figure at 0x107ffe2d0>"
       ]
      },
      {
       "metadata": {},
       "output_type": "display_data",
       "text": [
        "<matplotlib.figure.Figure at 0x10c2d38d0>"
       ]
      },
      {
       "metadata": {},
       "output_type": "display_data",
       "text": [
        "<matplotlib.figure.Figure at 0x10cea6550>"
       ]
      },
      {
       "metadata": {},
       "output_type": "display_data",
       "text": [
        "<matplotlib.figure.Figure at 0x1125d3e50>"
       ]
      },
      {
       "metadata": {},
       "output_type": "display_data",
       "text": [
        "<matplotlib.figure.Figure at 0x10db8aa90>"
       ]
      },
      {
       "metadata": {},
       "output_type": "display_data",
       "text": [
        "<matplotlib.figure.Figure at 0x10dbe17d0>"
       ]
      },
      {
       "metadata": {},
       "output_type": "display_data",
       "text": [
        "<matplotlib.figure.Figure at 0x10ea21850>"
       ]
      },
      {
       "metadata": {},
       "output_type": "display_data",
       "text": [
        "<matplotlib.figure.Figure at 0x10dbd5790>"
       ]
      },
      {
       "metadata": {},
       "output_type": "display_data",
       "text": [
        "<matplotlib.figure.Figure at 0x10c781a50>"
       ]
      },
      {
       "metadata": {},
       "output_type": "display_data",
       "text": [
        "<matplotlib.figure.Figure at 0x10c08f810>"
       ]
      },
      {
       "metadata": {},
       "output_type": "display_data",
       "text": [
        "<matplotlib.figure.Figure at 0x10f160d50>"
       ]
      },
      {
       "metadata": {},
       "output_type": "display_data",
       "text": [
        "<matplotlib.figure.Figure at 0x10beee290>"
       ]
      },
      {
       "metadata": {},
       "output_type": "display_data",
       "text": [
        "<matplotlib.figure.Figure at 0x10c7c7b10>"
       ]
      },
      {
       "metadata": {},
       "output_type": "display_data",
       "text": [
        "<matplotlib.figure.Figure at 0x10c58c410>"
       ]
      },
      {
       "metadata": {},
       "output_type": "display_data",
       "text": [
        "<matplotlib.figure.Figure at 0x10db901d0>"
       ]
      },
      {
       "metadata": {},
       "output_type": "display_data",
       "text": [
        "<matplotlib.figure.Figure at 0x10ce47210>"
       ]
      },
      {
       "metadata": {},
       "output_type": "display_data",
       "text": [
        "<matplotlib.figure.Figure at 0x10ca28790>"
       ]
      },
      {
       "metadata": {},
       "output_type": "display_data",
       "text": [
        "<matplotlib.figure.Figure at 0x10c287810>"
       ]
      },
      {
       "metadata": {},
       "output_type": "display_data",
       "text": [
        "<matplotlib.figure.Figure at 0x10ea679d0>"
       ]
      },
      {
       "metadata": {},
       "output_type": "display_data",
       "text": [
        "<matplotlib.figure.Figure at 0x10cee1c10>"
       ]
      },
      {
       "metadata": {},
       "output_type": "display_data",
       "text": [
        "<matplotlib.figure.Figure at 0x10cc8b690>"
       ]
      },
      {
       "metadata": {},
       "output_type": "display_data",
       "text": [
        "<matplotlib.figure.Figure at 0x107ffe250>"
       ]
      },
      {
       "metadata": {},
       "output_type": "display_data",
       "text": [
        "<matplotlib.figure.Figure at 0x1124d7150>"
       ]
      },
      {
       "metadata": {},
       "output_type": "display_data",
       "text": [
        "<matplotlib.figure.Figure at 0x10d3f2050>"
       ]
      },
      {
       "metadata": {},
       "output_type": "display_data",
       "text": [
        "<matplotlib.figure.Figure at 0x1124bb110>"
       ]
      },
      {
       "metadata": {},
       "output_type": "display_data",
       "text": [
        "<matplotlib.figure.Figure at 0x10c746d90>"
       ]
      },
      {
       "metadata": {},
       "output_type": "display_data",
       "text": [
        "<matplotlib.figure.Figure at 0x10e9b9310>"
       ]
      },
      {
       "metadata": {},
       "output_type": "display_data",
       "text": [
        "<matplotlib.figure.Figure at 0x112579250>"
       ]
      },
      {
       "metadata": {},
       "output_type": "display_data",
       "text": [
        "<matplotlib.figure.Figure at 0x10c285e10>"
       ]
      },
      {
       "metadata": {},
       "output_type": "display_data",
       "text": [
        "<matplotlib.figure.Figure at 0x1111d2090>"
       ]
      },
      {
       "metadata": {},
       "output_type": "display_data",
       "text": [
        "<matplotlib.figure.Figure at 0x112f94d10>"
       ]
      },
      {
       "metadata": {},
       "output_type": "display_data",
       "text": [
        "<matplotlib.figure.Figure at 0x10ca05550>"
       ]
      },
      {
       "metadata": {},
       "output_type": "display_data",
       "text": [
        "<matplotlib.figure.Figure at 0x10dbff150>"
       ]
      },
      {
       "metadata": {},
       "output_type": "display_data",
       "text": [
        "<matplotlib.figure.Figure at 0x10cba1a90>"
       ]
      },
      {
       "metadata": {},
       "output_type": "display_data",
       "text": [
        "<matplotlib.figure.Figure at 0x112550510>"
       ]
      },
      {
       "metadata": {},
       "output_type": "display_data",
       "text": [
        "<matplotlib.figure.Figure at 0x112faa8d0>"
       ]
      },
      {
       "metadata": {},
       "output_type": "display_data",
       "text": [
        "<matplotlib.figure.Figure at 0x10c22c910>"
       ]
      },
      {
       "metadata": {},
       "output_type": "display_data",
       "text": [
        "<matplotlib.figure.Figure at 0x10c28a6d0>"
       ]
      },
      {
       "metadata": {},
       "output_type": "display_data",
       "text": [
        "<matplotlib.figure.Figure at 0x112579bd0>"
       ]
      },
      {
       "metadata": {},
       "output_type": "display_data",
       "text": [
        "<matplotlib.figure.Figure at 0x10c45f7d0>"
       ]
      },
      {
       "metadata": {},
       "output_type": "display_data",
       "text": [
        "<matplotlib.figure.Figure at 0x10c46bcd0>"
       ]
      },
      {
       "metadata": {},
       "output_type": "display_data",
       "text": [
        "<matplotlib.figure.Figure at 0x10c477550>"
       ]
      },
      {
       "metadata": {},
       "output_type": "display_data",
       "text": [
        "<matplotlib.figure.Figure at 0x10c8cb6d0>"
       ]
      },
      {
       "metadata": {},
       "output_type": "display_data",
       "text": [
        "<matplotlib.figure.Figure at 0x10cca38d0>"
       ]
      },
      {
       "metadata": {},
       "output_type": "display_data",
       "png": "[encoded data removed]",
       "text": [
        "<matplotlib.figure.Figure at 0x10ccdc350>"
       ]
      }
     ],
     "prompt_number": 36
    },
    {
     "cell_type": "code",
     "collapsed": false,
     "input": [],
     "language": "python",
     "metadata": {},
     "outputs": []
    }
   ],
   "metadata": {}
  }
 ]
}